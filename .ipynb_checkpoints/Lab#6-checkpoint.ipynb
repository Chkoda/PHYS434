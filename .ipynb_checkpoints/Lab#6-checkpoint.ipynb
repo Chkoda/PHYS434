{
 "cells": [
  {
   "cell_type": "markdown",
   "metadata": {},
   "source": [
    "# Lab 6\n",
    "\n",
    "Alexander Chkodrov  \n",
    "11/13/2019  \n",
    "\n",
    "## Problem 1\n",
    "\n",
    "Create a background Poisson distribution with mean 100.  \n",
    "Determine where the 5$\\sigma$ sensitivity threshold is"
   ]
  },
  {
   "cell_type": "code",
   "execution_count": 13,
   "metadata": {},
   "outputs": [],
   "source": [
    "import numpy as np\n",
    "from scipy import stats\n",
    "import matplotlib.pyplot as plt"
   ]
  },
  {
   "cell_type": "code",
   "execution_count": 60,
   "metadata": {},
   "outputs": [
    {
     "name": "stdout",
     "output_type": "stream",
     "text": [
      "5𝜎 sensitivity threshold signal strength: 154.0\n"
     ]
    }
   ],
   "source": [
    "sigma = 5\n",
    "thresh = stats.poisson.isf(stats.norm.sf(sigma), mu=100)\n",
    "print(f\"{sigma}𝜎 sensitivity threshold signal strength: {thresh:.1f}\")"
   ]
  },
  {
   "cell_type": "code",
   "execution_count": 95,
   "metadata": {},
   "outputs": [
    {
     "name": "stdout",
     "output_type": "stream",
     "text": [
      "Signal strength 298 has probability 16.0𝜎\n"
     ]
    }
   ],
   "source": [
    "signal = 298\n",
    "sigma = stats.norm.isf(stats.poisson.sf(signal, mu=100))\n",
    "print(f\"Signal strength {signal} has probability {sigma:.1f}𝜎\")"
   ]
  },
  {
   "cell_type": "markdown",
   "metadata": {},
   "source": [
    "## Problem 2\n",
    "\n",
    "Create a simulated signal of a single strength of strength somewhere between 8𝜎 and 30𝜎. Insert it many times into the background data.\n",
    "\n",
    "Histogram of how bright the observed signal appears to be,"
   ]
  },
  {
   "cell_type": "code",
   "execution_count": 32,
   "metadata": {},
   "outputs": [
    {
     "data": {
      "image/png": "[encoded data removed]",
      "text/plain": [
       "<Figure size 432x288 with 1 Axes>"
      ]
     },
     "metadata": {
      "needs_background": "light"
     },
     "output_type": "display_data"
    }
   ],
   "source": [
    "sigma = 8\n",
    "bgd = np.zeros(100000)\n",
    "sig = np.ones(500)*stats.poisson.isf(stats.norm.sf(sigma), mu=100)\n",
    "\n",
    "data = np.append(bgd, sig) + stats.poisson.rvs(mu=100, size=100500)\n",
    "plt.hist(data, bins=50, density=True)\n",
    "plt.yscale('log')\n",
    "plt.show()"
   ]
  },
  {
   "cell_type": "markdown",
   "metadata": {},
   "source": [
    "This histogram has a remarkably gaussian shape on the left, following a parabolic line downward in the log plot which is characteristic of a gaussian distribution. It also has a similiar shape at 290 on the x axis, which would appear to be the signal is added to the background data. This histogram tells us there is some random background following a relatively gaussian distribution centered around the value 100, with a signal when x = 190.\n",
    "\n",
    "The observed signal is biased because it was added to the background data set before the random noise; the visible signal above is actually the 'observed signal' of averaging around 290, while the injected signal is 190. The observed signal is essentially the injected signal plus noise (average 100). It is symmetric.\n",
    "\n",
    "## Problem 3\n",
    "\n",
    "Make a suite of injected signals, starting at 0$\\sigma$ and extending to 34$\\sigma$."
   ]
  },
  {
   "cell_type": "code",
   "execution_count": 86,
   "metadata": {},
   "outputs": [
    {
     "data": {
      "image/png": "[encoded data removed]",
      "text/plain": [
       "<Figure size 360x360 with 1 Axes>"
      ]
     },
     "metadata": {
      "needs_background": "light"
     },
     "output_type": "display_data"
    }
   ],
   "source": [
    "sigma = 8\n",
    "min_signal = 100 #0 sigma\n",
    "max_signal = 600 #34 sigma\n",
    "\n",
    "noise = stats.poisson.rvs(mu=100, size=10000)\n",
    "injected = np.linspace(min_signal,max_signal,10000)\n",
    "observed = noise + injected\n",
    "\n",
    "fig = plt.figure(figsize=(5,5))\n",
    "h = plt.hist2d(observed, injected, bins=(50,50), density=True)\n",
    "plt.title('Injected signal vs Observed signal')\n",
    "plt.ylabel('Injected signal')\n",
    "plt.xlabel('Observed signal')\n",
    "plt.show()"
   ]
  },
  {
   "cell_type": "markdown",
   "metadata": {},
   "source": [
    "The above histogram represents the probability for any injected signal given an observed signal of strength x (x axis). There is a clear band of high probabilities following the line y = x - 100 where y is the strength of the injected signal of strength and x is the strenght of the observed signal."
   ]
  },
  {
   "cell_type": "code",
   "execution_count": 102,
   "metadata": {},
   "outputs": [
    {
     "data": {
      "image/png": "[encoded data removed]",
      "text/plain": [
       "<Figure size 432x288 with 1 Axes>"
      ]
     },
     "metadata": {
      "needs_background": "light"
     },
     "output_type": "display_data"
    }
   ],
   "source": [
    "noise = stats.poisson.rvs(mu=100, size=10000)\n",
    "observed = np.ones(10000)*298 #16 sigma\n",
    "injected = observed - noise\n",
    "\n",
    "plt.hist(injected, bins=25, density=True)\n",
    "plt.yscale('log')\n",
    "plt.title('pdf of Injected Signal Strength')\n",
    "plt.show()"
   ]
  },
  {
   "cell_type": "markdown",
   "metadata": {},
   "source": [
    "For a given observed strength of 296 (16$\\sigma$), the above histogram represents the probability of the underlying injected signal strength. The highest probability injected signal strength is just around 200, which is ~100 less than the observed signal strength, and also the average value of the noise. This agrees with common sense which would suggest the most likely value for injected signal strength is the observed signal strength minus the average of the background noise."
   ]
  },
  {
   "cell_type": "code",
   "execution_count": null,
   "metadata": {},
   "outputs": [],
   "source": []
  }
 ],
 "metadata": {
  "kernelspec": {
   "display_name": "Python 3",
   "language": "python",
   "name": "python3"
  },
  "language_info": {
   "codemirror_mode": {
    "name": "ipython",
    "version": 3
   },
   "file_extension": ".py",
   "mimetype": "text/x-python",
   "name": "python",
   "nbconvert_exporter": "python",
   "pygments_lexer": "ipython3",
   "version": "3.7.4"
  }
 },
 "nbformat": 4,
 "nbformat_minor": 2
}
