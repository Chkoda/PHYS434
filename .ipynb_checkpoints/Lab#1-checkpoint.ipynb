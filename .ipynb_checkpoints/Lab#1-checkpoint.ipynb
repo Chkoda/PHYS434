{
 "cells": [
  {
   "cell_type": "markdown",
   "metadata": {},
   "source": [
    "# Lab 1\n",
    "by Alexander Chkodrov\\\n",
    "October 9th, 2019\n",
    "\n",
    "In this laboratory we set up git, Github, and warm up to using statistics in the form of continuous and discrete distributions with python.\n",
    "\n",
    "### Part 1"
   ]
  },
  {
   "cell_type": "code",
   "execution_count": 17,
   "metadata": {},
   "outputs": [],
   "source": [
    "%matplotlib inline\n",
    "import numpy as np\n",
    "import matplotlib\n",
    "import matplotlib.pyplot as plt\n",
    "import scipy\n",
    "from scipy import stats"
   ]
  },
  {
   "cell_type": "code",
   "execution_count": 39,
   "metadata": {},
   "outputs": [
    {
     "name": "stdout",
     "output_type": "stream",
     "text": [
      "from 0 to 1z:  0.3413447460685429\n",
      "from -1z to 1z:  0.6826894921370859\n"
     ]
    }
   ],
   "source": [
    "print(\"from 0 to 1z: \", stats.norm.cdf(1, loc=0, scale=1) - stats.norm.cdf(0, loc=0, scale=1))\n",
    "print(\"from -1z to 1z: \", stats.norm.cdf(1, loc=0, scale=1) - stats.norm.cdf(-1, loc=0, scale=1))"
   ]
  },
  {
   "cell_type": "markdown",
   "metadata": {},
   "source": [
    "Here I integrate the probability density function using the cdf command from scipy; the value 0.68 from the above line is the probability (out of 1) that a data point falls between -1 and 1 z scores on a normal distribution with mean (loc=) 0 and standard deviation (scale=) 1. Note that I had to use two cdf commands as the cdf command integrates from the furthest left side of the distribution to the z value specified, so to get the cumulative probablity from mean to z instead you must first get the cumulative probability from the far left end of the distribution to z and then subtract the cumulative probability from the far left end to -z. To get the one-sided z score that matches the wikipedia table, first calculate the cdf at z and subtract the cdf at zero."
   ]
  },
  {
   "cell_type": "code",
   "execution_count": null,
   "metadata": {},
   "outputs": [],
   "source": []
  },
  {
   "cell_type": "code",
   "execution_count": 7,
   "metadata": {},
   "outputs": [
    {
     "data": {
      "text/plain": [
       "array(0.)"
      ]
     },
     "execution_count": 7,
     "metadata": {},
     "output_type": "execute_result"
    }
   ],
   "source": []
  },
  {
   "cell_type": "code",
   "execution_count": 8,
   "metadata": {},
   "outputs": [
    {
     "data": {
      "text/plain": [
       "array(0.)"
      ]
     },
     "execution_count": 8,
     "metadata": {},
     "output_type": "execute_result"
    }
   ],
   "source": []
  },
  {
   "cell_type": "code",
   "execution_count": null,
   "metadata": {},
   "outputs": [],
   "source": []
  }
 ],
 "metadata": {
  "kernelspec": {
   "display_name": "Python 3",
   "language": "python",
   "name": "python3"
  },
  "language_info": {
   "codemirror_mode": {
    "name": "ipython",
    "version": 3
   },
   "file_extension": ".py",
   "mimetype": "text/x-python",
   "name": "python",
   "nbconvert_exporter": "python",
   "pygments_lexer": "ipython3",
   "version": "3.7.4"
  }
 },
 "nbformat": 4,
 "nbformat_minor": 2
}
